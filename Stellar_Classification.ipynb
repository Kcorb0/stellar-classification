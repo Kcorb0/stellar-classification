{
 "cells": [
  {
   "cell_type": "markdown",
   "id": "99f3beea",
   "metadata": {},
   "source": [
    "obj_ID = Object Identifier, the unique value that identifies the object in the image catalog used by the CAS\n",
    "\n",
    "alpha = Right Ascension angle (at J2000 epoch)\n",
    "\n",
    "delta = Declination angle (at J2000 epoch)\n",
    "\n",
    "u = Ultraviolet filter in the photometric system\n",
    "\n",
    "g = Green filter in the photometric system\n",
    "\n",
    "r = Red filter in the photometric system\n",
    "\n",
    "i = Near Infrared filter in the photometric system\n",
    "\n",
    "z = Infrared filter in the photometric system\n",
    "\n",
    "run_ID = Run Number used to identify the specific scan\n",
    "\n",
    "rereun_ID = Rerun Number to specify how the image was processed\n",
    "\n",
    "cam_col = Camera column to identify the scanline within the run\n",
    "\n",
    "field_ID = Field number to identify each field\n",
    "\n",
    "spec_obj_ID = Unique ID used for optical spectroscopic objects (this means that 2 different observations with the \n",
    "same spec_obj_ID must share the output class)\n",
    "\n",
    "class = object class (galaxy, star or quasar object)\n",
    "\n",
    "redshift = redshift value based on the increase in wavelength\n",
    "\n",
    "plate = plate ID, identifies each plate in SDSS\n",
    "\n",
    "MJD = Modified Julian Date, used to indicate when a given piece of SDSS data was taken\n",
    "\n",
    "fiber_ID = fiber ID that identifies the fiber that pointed the light at the focal plane in each observation"
   ]
  },
  {
   "cell_type": "markdown",
   "id": "e7e973b2",
   "metadata": {},
   "source": [
    "#### Notes\n",
    "- Large outliers in the colour shifts present in stars\n"
   ]
  },
  {
   "cell_type": "code",
   "execution_count": 1,
   "id": "ecee92aa",
   "metadata": {},
   "outputs": [],
   "source": [
    "import pandas as pd\n",
    "import numpy as np\n",
    "import matplotlib.pyplot as plt"
   ]
  },
  {
   "cell_type": "code",
   "execution_count": 17,
   "id": "61793620",
   "metadata": {},
   "outputs": [],
   "source": [
    "obj_df = pd.read_csv(\"star_classification.csv\")\n",
    "model_df = obj_df.copy()"
   ]
  },
  {
   "cell_type": "code",
   "execution_count": 3,
   "id": "6bcd47b7",
   "metadata": {},
   "outputs": [],
   "source": [
    "drop_ids = [\"run_ID\", \"rerun_ID\", \"field_ID\", \"fiber_ID\"]\n",
    "obj_df = obj_df.drop(drop_ids, axis=1)"
   ]
  },
  {
   "cell_type": "code",
   "execution_count": 4,
   "id": "d69ed948",
   "metadata": {},
   "outputs": [
    {
     "data": {
      "text/html": [
       "<div>\n",
       "<style scoped>\n",
       "    .dataframe tbody tr th:only-of-type {\n",
       "        vertical-align: middle;\n",
       "    }\n",
       "\n",
       "    .dataframe tbody tr th {\n",
       "        vertical-align: top;\n",
       "    }\n",
       "\n",
       "    .dataframe thead th {\n",
       "        text-align: right;\n",
       "    }\n",
       "</style>\n",
       "<table border=\"1\" class=\"dataframe\">\n",
       "  <thead>\n",
       "    <tr style=\"text-align: right;\">\n",
       "      <th></th>\n",
       "      <th>obj_ID</th>\n",
       "      <th>alpha</th>\n",
       "      <th>delta</th>\n",
       "      <th>u</th>\n",
       "      <th>g</th>\n",
       "      <th>r</th>\n",
       "      <th>i</th>\n",
       "      <th>z</th>\n",
       "      <th>cam_col</th>\n",
       "      <th>spec_obj_ID</th>\n",
       "      <th>class</th>\n",
       "      <th>redshift</th>\n",
       "      <th>plate</th>\n",
       "      <th>MJD</th>\n",
       "    </tr>\n",
       "  </thead>\n",
       "  <tbody>\n",
       "    <tr>\n",
       "      <th>0</th>\n",
       "      <td>1.237661e+18</td>\n",
       "      <td>135.689107</td>\n",
       "      <td>32.494632</td>\n",
       "      <td>23.87882</td>\n",
       "      <td>22.27530</td>\n",
       "      <td>20.39501</td>\n",
       "      <td>19.16573</td>\n",
       "      <td>18.79371</td>\n",
       "      <td>2</td>\n",
       "      <td>6.543777e+18</td>\n",
       "      <td>GALAXY</td>\n",
       "      <td>0.634794</td>\n",
       "      <td>5812</td>\n",
       "      <td>56354</td>\n",
       "    </tr>\n",
       "    <tr>\n",
       "      <th>1</th>\n",
       "      <td>1.237665e+18</td>\n",
       "      <td>144.826101</td>\n",
       "      <td>31.274185</td>\n",
       "      <td>24.77759</td>\n",
       "      <td>22.83188</td>\n",
       "      <td>22.58444</td>\n",
       "      <td>21.16812</td>\n",
       "      <td>21.61427</td>\n",
       "      <td>5</td>\n",
       "      <td>1.176014e+19</td>\n",
       "      <td>GALAXY</td>\n",
       "      <td>0.779136</td>\n",
       "      <td>10445</td>\n",
       "      <td>58158</td>\n",
       "    </tr>\n",
       "    <tr>\n",
       "      <th>2</th>\n",
       "      <td>1.237661e+18</td>\n",
       "      <td>142.188790</td>\n",
       "      <td>35.582444</td>\n",
       "      <td>25.26307</td>\n",
       "      <td>22.66389</td>\n",
       "      <td>20.60976</td>\n",
       "      <td>19.34857</td>\n",
       "      <td>18.94827</td>\n",
       "      <td>2</td>\n",
       "      <td>5.152200e+18</td>\n",
       "      <td>GALAXY</td>\n",
       "      <td>0.644195</td>\n",
       "      <td>4576</td>\n",
       "      <td>55592</td>\n",
       "    </tr>\n",
       "    <tr>\n",
       "      <th>3</th>\n",
       "      <td>1.237663e+18</td>\n",
       "      <td>338.741038</td>\n",
       "      <td>-0.402828</td>\n",
       "      <td>22.13682</td>\n",
       "      <td>23.77656</td>\n",
       "      <td>21.61162</td>\n",
       "      <td>20.50454</td>\n",
       "      <td>19.25010</td>\n",
       "      <td>3</td>\n",
       "      <td>1.030107e+19</td>\n",
       "      <td>GALAXY</td>\n",
       "      <td>0.932346</td>\n",
       "      <td>9149</td>\n",
       "      <td>58039</td>\n",
       "    </tr>\n",
       "    <tr>\n",
       "      <th>4</th>\n",
       "      <td>1.237680e+18</td>\n",
       "      <td>345.282593</td>\n",
       "      <td>21.183866</td>\n",
       "      <td>19.43718</td>\n",
       "      <td>17.58028</td>\n",
       "      <td>16.49747</td>\n",
       "      <td>15.97711</td>\n",
       "      <td>15.54461</td>\n",
       "      <td>3</td>\n",
       "      <td>6.891865e+18</td>\n",
       "      <td>GALAXY</td>\n",
       "      <td>0.116123</td>\n",
       "      <td>6121</td>\n",
       "      <td>56187</td>\n",
       "    </tr>\n",
       "  </tbody>\n",
       "</table>\n",
       "</div>"
      ],
      "text/plain": [
       "         obj_ID       alpha      delta         u         g         r  \\\n",
       "0  1.237661e+18  135.689107  32.494632  23.87882  22.27530  20.39501   \n",
       "1  1.237665e+18  144.826101  31.274185  24.77759  22.83188  22.58444   \n",
       "2  1.237661e+18  142.188790  35.582444  25.26307  22.66389  20.60976   \n",
       "3  1.237663e+18  338.741038  -0.402828  22.13682  23.77656  21.61162   \n",
       "4  1.237680e+18  345.282593  21.183866  19.43718  17.58028  16.49747   \n",
       "\n",
       "          i         z  cam_col   spec_obj_ID   class  redshift  plate    MJD  \n",
       "0  19.16573  18.79371        2  6.543777e+18  GALAXY  0.634794   5812  56354  \n",
       "1  21.16812  21.61427        5  1.176014e+19  GALAXY  0.779136  10445  58158  \n",
       "2  19.34857  18.94827        2  5.152200e+18  GALAXY  0.644195   4576  55592  \n",
       "3  20.50454  19.25010        3  1.030107e+19  GALAXY  0.932346   9149  58039  \n",
       "4  15.97711  15.54461        3  6.891865e+18  GALAXY  0.116123   6121  56187  "
      ]
     },
     "execution_count": 4,
     "metadata": {},
     "output_type": "execute_result"
    }
   ],
   "source": [
    "obj_df.head()"
   ]
  },
  {
   "cell_type": "code",
   "execution_count": 5,
   "id": "5a1e5c12",
   "metadata": {},
   "outputs": [
    {
     "name": "stdout",
     "output_type": "stream",
     "text": [
      "<class 'pandas.core.frame.DataFrame'>\n",
      "RangeIndex: 100000 entries, 0 to 99999\n",
      "Data columns (total 14 columns):\n",
      " #   Column       Non-Null Count   Dtype  \n",
      "---  ------       --------------   -----  \n",
      " 0   obj_ID       100000 non-null  float64\n",
      " 1   alpha        100000 non-null  float64\n",
      " 2   delta        100000 non-null  float64\n",
      " 3   u            100000 non-null  float64\n",
      " 4   g            100000 non-null  float64\n",
      " 5   r            100000 non-null  float64\n",
      " 6   i            100000 non-null  float64\n",
      " 7   z            100000 non-null  float64\n",
      " 8   cam_col      100000 non-null  int64  \n",
      " 9   spec_obj_ID  100000 non-null  float64\n",
      " 10  class        100000 non-null  object \n",
      " 11  redshift     100000 non-null  float64\n",
      " 12  plate        100000 non-null  int64  \n",
      " 13  MJD          100000 non-null  int64  \n",
      "dtypes: float64(10), int64(3), object(1)\n",
      "memory usage: 10.7+ MB\n"
     ]
    }
   ],
   "source": [
    "obj_df.info()"
   ]
  },
  {
   "cell_type": "code",
   "execution_count": 6,
   "id": "179e266d",
   "metadata": {},
   "outputs": [
    {
     "data": {
      "text/plain": [
       "GALAXY    59445\n",
       "STAR      21594\n",
       "QSO       18961\n",
       "Name: class, dtype: int64"
      ]
     },
     "execution_count": 6,
     "metadata": {},
     "output_type": "execute_result"
    }
   ],
   "source": [
    "obj_df[\"class\"].value_counts()"
   ]
  },
  {
   "cell_type": "code",
   "execution_count": 7,
   "id": "dce2f54e",
   "metadata": {},
   "outputs": [
    {
     "data": {
      "text/plain": [
       "<Axes: >"
      ]
     },
     "execution_count": 7,
     "metadata": {},
     "output_type": "execute_result"
    },
    {
     "data": {
      "image/png": "[encoded data removed]",
      "text/plain": [
       "<Figure size 640x480 with 1 Axes>"
      ]
     },
     "metadata": {},
     "output_type": "display_data"
    }
   ],
   "source": [
    "class_labels = obj_df[\"class\"]\n",
    "class_labels.hist()"
   ]
  },
  {
   "cell_type": "code",
   "execution_count": 8,
   "id": "3af81cca",
   "metadata": {},
   "outputs": [],
   "source": [
    "galaxies = obj_df[obj_df[\"class\"] == \"GALAXY\"]\n",
    "quesars = obj_df[obj_df[\"class\"] == \"QSO\"]\n",
    "stars = obj_df[obj_df[\"class\"] == \"STAR\"]"
   ]
  },
  {
   "cell_type": "code",
   "execution_count": 10,
   "id": "b14944b3",
   "metadata": {},
   "outputs": [
    {
     "data": {
      "text/plain": [
       "count    59445.000000\n",
       "mean         0.421596\n",
       "std          0.264858\n",
       "min         -0.009971\n",
       "25%          0.164527\n",
       "50%          0.456274\n",
       "75%          0.594699\n",
       "max          1.995524\n",
       "Name: redshift, dtype: float64"
      ]
     },
     "execution_count": 10,
     "metadata": {},
     "output_type": "execute_result"
    }
   ],
   "source": [
    "galaxies[\"redshift\"].describe()"
   ]
  },
  {
   "cell_type": "code",
   "execution_count": 11,
   "id": "82a031d5",
   "metadata": {},
   "outputs": [
    {
     "data": {
      "text/plain": [
       "count    18961.000000\n",
       "mean         1.719676\n",
       "std          0.913954\n",
       "min          0.000461\n",
       "25%          1.106605\n",
       "50%          1.617232\n",
       "75%          2.220279\n",
       "max          7.011245\n",
       "Name: redshift, dtype: float64"
      ]
     },
     "execution_count": 11,
     "metadata": {},
     "output_type": "execute_result"
    }
   ],
   "source": [
    "quesars[\"redshift\"].describe()"
   ]
  },
  {
   "cell_type": "code",
   "execution_count": 12,
   "id": "bf263df4",
   "metadata": {},
   "outputs": [
    {
     "data": {
      "text/plain": [
       "count    21594.000000\n",
       "mean        -0.000115\n",
       "std          0.000465\n",
       "min         -0.004136\n",
       "25%         -0.000295\n",
       "50%         -0.000076\n",
       "75%          0.000075\n",
       "max          0.004153\n",
       "Name: redshift, dtype: float64"
      ]
     },
     "execution_count": 12,
     "metadata": {},
     "output_type": "execute_result"
    }
   ],
   "source": [
    "stars[\"redshift\"].describe()"
   ]
  },
  {
   "cell_type": "code",
   "execution_count": 13,
   "id": "60b58471",
   "metadata": {},
   "outputs": [
    {
     "data": {
      "text/plain": [
       "count    100000.000000\n",
       "mean          0.576661\n",
       "std           0.730707\n",
       "min          -0.009971\n",
       "25%           0.054517\n",
       "50%           0.424173\n",
       "75%           0.704154\n",
       "max           7.011245\n",
       "Name: redshift, dtype: float64"
      ]
     },
     "execution_count": 13,
     "metadata": {},
     "output_type": "execute_result"
    }
   ],
   "source": [
    "obj_df[\"redshift\"].describe()"
   ]
  },
  {
   "cell_type": "code",
   "execution_count": 14,
   "id": "b8661efe",
   "metadata": {},
   "outputs": [
    {
     "data": {
      "image/png": "[encoded data removed]",
      "text/plain": [
       "<Figure size 640x480 with 1 Axes>"
      ]
     },
     "metadata": {},
     "output_type": "display_data"
    }
   ],
   "source": [
    "g = galaxies[\"redshift\"]\n",
    "q = quesars[\"redshift\"]\n",
    "s = stars[\"redshift\"]\n",
    "\n",
    "plt.boxplot([g, q, s], vert=False, showfliers=False)\n",
    "plt.show()"
   ]
  },
  {
   "cell_type": "code",
   "execution_count": 15,
   "id": "6ff98342",
   "metadata": {},
   "outputs": [
    {
     "data": {
      "text/html": [
       "<div>\n",
       "<style scoped>\n",
       "    .dataframe tbody tr th:only-of-type {\n",
       "        vertical-align: middle;\n",
       "    }\n",
       "\n",
       "    .dataframe tbody tr th {\n",
       "        vertical-align: top;\n",
       "    }\n",
       "\n",
       "    .dataframe thead th {\n",
       "        text-align: right;\n",
       "    }\n",
       "</style>\n",
       "<table border=\"1\" class=\"dataframe\">\n",
       "  <thead>\n",
       "    <tr style=\"text-align: right;\">\n",
       "      <th></th>\n",
       "      <th>obj_ID</th>\n",
       "      <th>alpha</th>\n",
       "      <th>delta</th>\n",
       "      <th>u</th>\n",
       "      <th>g</th>\n",
       "      <th>r</th>\n",
       "      <th>i</th>\n",
       "      <th>z</th>\n",
       "      <th>cam_col</th>\n",
       "      <th>spec_obj_ID</th>\n",
       "      <th>redshift</th>\n",
       "      <th>plate</th>\n",
       "      <th>MJD</th>\n",
       "    </tr>\n",
       "  </thead>\n",
       "  <tbody>\n",
       "    <tr>\n",
       "      <th>count</th>\n",
       "      <td>2.159400e+04</td>\n",
       "      <td>21594.000000</td>\n",
       "      <td>21594.000000</td>\n",
       "      <td>21594.000000</td>\n",
       "      <td>21594.000000</td>\n",
       "      <td>21594.000000</td>\n",
       "      <td>21594.000000</td>\n",
       "      <td>21594.000000</td>\n",
       "      <td>21594.000000</td>\n",
       "      <td>2.159400e+04</td>\n",
       "      <td>21594.000000</td>\n",
       "      <td>21594.000000</td>\n",
       "      <td>21594.000000</td>\n",
       "    </tr>\n",
       "    <tr>\n",
       "      <th>mean</th>\n",
       "      <td>1.237664e+18</td>\n",
       "      <td>174.234485</td>\n",
       "      <td>23.498554</td>\n",
       "      <td>20.689805</td>\n",
       "      <td>19.153188</td>\n",
       "      <td>18.946969</td>\n",
       "      <td>18.543736</td>\n",
       "      <td>17.870400</td>\n",
       "      <td>3.576271</td>\n",
       "      <td>4.827882e+18</td>\n",
       "      <td>-0.000115</td>\n",
       "      <td>4287.920348</td>\n",
       "      <td>55131.149115</td>\n",
       "    </tr>\n",
       "    <tr>\n",
       "      <th>std</th>\n",
       "      <td>8.300272e+12</td>\n",
       "      <td>99.876175</td>\n",
       "      <td>20.383288</td>\n",
       "      <td>68.228825</td>\n",
       "      <td>68.210460</td>\n",
       "      <td>1.972786</td>\n",
       "      <td>1.841714</td>\n",
       "      <td>68.193708</td>\n",
       "      <td>1.628102</td>\n",
       "      <td>3.030706e+18</td>\n",
       "      <td>0.000465</td>\n",
       "      <td>2691.789973</td>\n",
       "      <td>1656.266867</td>\n",
       "    </tr>\n",
       "    <tr>\n",
       "      <th>min</th>\n",
       "      <td>1.237646e+18</td>\n",
       "      <td>0.029838</td>\n",
       "      <td>-18.785328</td>\n",
       "      <td>-9999.000000</td>\n",
       "      <td>-9999.000000</td>\n",
       "      <td>9.822070</td>\n",
       "      <td>9.469903</td>\n",
       "      <td>-9999.000000</td>\n",
       "      <td>1.000000</td>\n",
       "      <td>3.006288e+17</td>\n",
       "      <td>-0.004136</td>\n",
       "      <td>267.000000</td>\n",
       "      <td>51608.000000</td>\n",
       "    </tr>\n",
       "    <tr>\n",
       "      <th>25%</th>\n",
       "      <td>1.237658e+18</td>\n",
       "      <td>114.863064</td>\n",
       "      <td>3.127855</td>\n",
       "      <td>19.327275</td>\n",
       "      <td>18.034847</td>\n",
       "      <td>17.454012</td>\n",
       "      <td>17.139703</td>\n",
       "      <td>16.963810</td>\n",
       "      <td>2.000000</td>\n",
       "      <td>2.609860e+18</td>\n",
       "      <td>-0.000295</td>\n",
       "      <td>2318.000000</td>\n",
       "      <td>53905.000000</td>\n",
       "    </tr>\n",
       "    <tr>\n",
       "      <th>50%</th>\n",
       "      <td>1.237663e+18</td>\n",
       "      <td>174.151671</td>\n",
       "      <td>23.400565</td>\n",
       "      <td>21.010555</td>\n",
       "      <td>19.542825</td>\n",
       "      <td>18.955080</td>\n",
       "      <td>18.592360</td>\n",
       "      <td>18.319225</td>\n",
       "      <td>4.000000</td>\n",
       "      <td>3.711076e+18</td>\n",
       "      <td>-0.000076</td>\n",
       "      <td>3296.000000</td>\n",
       "      <td>54924.000000</td>\n",
       "    </tr>\n",
       "    <tr>\n",
       "      <th>75%</th>\n",
       "      <td>1.237669e+18</td>\n",
       "      <td>240.850550</td>\n",
       "      <td>39.939705</td>\n",
       "      <td>22.960617</td>\n",
       "      <td>21.228690</td>\n",
       "      <td>20.557477</td>\n",
       "      <td>20.041690</td>\n",
       "      <td>19.729615</td>\n",
       "      <td>5.000000</td>\n",
       "      <td>7.190131e+18</td>\n",
       "      <td>0.000075</td>\n",
       "      <td>6386.000000</td>\n",
       "      <td>56365.000000</td>\n",
       "    </tr>\n",
       "    <tr>\n",
       "      <th>max</th>\n",
       "      <td>1.237681e+18</td>\n",
       "      <td>359.999810</td>\n",
       "      <td>83.000519</td>\n",
       "      <td>30.660390</td>\n",
       "      <td>30.607000</td>\n",
       "      <td>29.374110</td>\n",
       "      <td>30.250090</td>\n",
       "      <td>26.427790</td>\n",
       "      <td>6.000000</td>\n",
       "      <td>1.412693e+19</td>\n",
       "      <td>0.004153</td>\n",
       "      <td>12547.000000</td>\n",
       "      <td>58932.000000</td>\n",
       "    </tr>\n",
       "  </tbody>\n",
       "</table>\n",
       "</div>"
      ],
      "text/plain": [
       "             obj_ID         alpha         delta             u             g  \\\n",
       "count  2.159400e+04  21594.000000  21594.000000  21594.000000  21594.000000   \n",
       "mean   1.237664e+18    174.234485     23.498554     20.689805     19.153188   \n",
       "std    8.300272e+12     99.876175     20.383288     68.228825     68.210460   \n",
       "min    1.237646e+18      0.029838    -18.785328  -9999.000000  -9999.000000   \n",
       "25%    1.237658e+18    114.863064      3.127855     19.327275     18.034847   \n",
       "50%    1.237663e+18    174.151671     23.400565     21.010555     19.542825   \n",
       "75%    1.237669e+18    240.850550     39.939705     22.960617     21.228690   \n",
       "max    1.237681e+18    359.999810     83.000519     30.660390     30.607000   \n",
       "\n",
       "                  r             i             z       cam_col   spec_obj_ID  \\\n",
       "count  21594.000000  21594.000000  21594.000000  21594.000000  2.159400e+04   \n",
       "mean      18.946969     18.543736     17.870400      3.576271  4.827882e+18   \n",
       "std        1.972786      1.841714     68.193708      1.628102  3.030706e+18   \n",
       "min        9.822070      9.469903  -9999.000000      1.000000  3.006288e+17   \n",
       "25%       17.454012     17.139703     16.963810      2.000000  2.609860e+18   \n",
       "50%       18.955080     18.592360     18.319225      4.000000  3.711076e+18   \n",
       "75%       20.557477     20.041690     19.729615      5.000000  7.190131e+18   \n",
       "max       29.374110     30.250090     26.427790      6.000000  1.412693e+19   \n",
       "\n",
       "           redshift         plate           MJD  \n",
       "count  21594.000000  21594.000000  21594.000000  \n",
       "mean      -0.000115   4287.920348  55131.149115  \n",
       "std        0.000465   2691.789973   1656.266867  \n",
       "min       -0.004136    267.000000  51608.000000  \n",
       "25%       -0.000295   2318.000000  53905.000000  \n",
       "50%       -0.000076   3296.000000  54924.000000  \n",
       "75%        0.000075   6386.000000  56365.000000  \n",
       "max        0.004153  12547.000000  58932.000000  "
      ]
     },
     "execution_count": 15,
     "metadata": {},
     "output_type": "execute_result"
    }
   ],
   "source": [
    "stars.describe()"
   ]
  },
  {
   "cell_type": "code",
   "execution_count": 16,
   "id": "40473dbd",
   "metadata": {},
   "outputs": [
    {
     "data": {
      "text/html": [
       "<div>\n",
       "<style scoped>\n",
       "    .dataframe tbody tr th:only-of-type {\n",
       "        vertical-align: middle;\n",
       "    }\n",
       "\n",
       "    .dataframe tbody tr th {\n",
       "        vertical-align: top;\n",
       "    }\n",
       "\n",
       "    .dataframe thead th {\n",
       "        text-align: right;\n",
       "    }\n",
       "</style>\n",
       "<table border=\"1\" class=\"dataframe\">\n",
       "  <thead>\n",
       "    <tr style=\"text-align: right;\">\n",
       "      <th></th>\n",
       "      <th>obj_ID</th>\n",
       "      <th>alpha</th>\n",
       "      <th>delta</th>\n",
       "      <th>u</th>\n",
       "      <th>g</th>\n",
       "      <th>r</th>\n",
       "      <th>i</th>\n",
       "      <th>z</th>\n",
       "      <th>cam_col</th>\n",
       "      <th>spec_obj_ID</th>\n",
       "      <th>redshift</th>\n",
       "      <th>plate</th>\n",
       "      <th>MJD</th>\n",
       "    </tr>\n",
       "  </thead>\n",
       "  <tbody>\n",
       "    <tr>\n",
       "      <th>count</th>\n",
       "      <td>1.896100e+04</td>\n",
       "      <td>18961.000000</td>\n",
       "      <td>18961.000000</td>\n",
       "      <td>18961.000000</td>\n",
       "      <td>18961.000000</td>\n",
       "      <td>18961.000000</td>\n",
       "      <td>18961.000000</td>\n",
       "      <td>18961.000000</td>\n",
       "      <td>18961.000000</td>\n",
       "      <td>1.896100e+04</td>\n",
       "      <td>18961.000000</td>\n",
       "      <td>18961.000000</td>\n",
       "      <td>18961.000000</td>\n",
       "    </tr>\n",
       "    <tr>\n",
       "      <th>mean</th>\n",
       "      <td>1.237665e+18</td>\n",
       "      <td>180.474314</td>\n",
       "      <td>26.808621</td>\n",
       "      <td>21.547619</td>\n",
       "      <td>20.926193</td>\n",
       "      <td>20.624089</td>\n",
       "      <td>20.431173</td>\n",
       "      <td>20.266732</td>\n",
       "      <td>3.522494</td>\n",
       "      <td>7.817338e+18</td>\n",
       "      <td>1.719676</td>\n",
       "      <td>6943.071621</td>\n",
       "      <td>56627.547176</td>\n",
       "    </tr>\n",
       "    <tr>\n",
       "      <th>std</th>\n",
       "      <td>8.659960e+12</td>\n",
       "      <td>98.962348</td>\n",
       "      <td>19.588410</td>\n",
       "      <td>1.495879</td>\n",
       "      <td>1.163239</td>\n",
       "      <td>1.084237</td>\n",
       "      <td>1.080135</td>\n",
       "      <td>1.095076</td>\n",
       "      <td>1.575871</td>\n",
       "      <td>3.143628e+18</td>\n",
       "      <td>0.913954</td>\n",
       "      <td>2792.093167</td>\n",
       "      <td>1579.823334</td>\n",
       "    </tr>\n",
       "    <tr>\n",
       "      <th>min</th>\n",
       "      <td>1.237646e+18</td>\n",
       "      <td>0.010959</td>\n",
       "      <td>-15.980904</td>\n",
       "      <td>10.996230</td>\n",
       "      <td>13.662170</td>\n",
       "      <td>12.357630</td>\n",
       "      <td>12.637440</td>\n",
       "      <td>11.302470</td>\n",
       "      <td>1.000000</td>\n",
       "      <td>3.006293e+17</td>\n",
       "      <td>0.000461</td>\n",
       "      <td>267.000000</td>\n",
       "      <td>51608.000000</td>\n",
       "    </tr>\n",
       "    <tr>\n",
       "      <th>25%</th>\n",
       "      <td>1.237659e+18</td>\n",
       "      <td>129.133119</td>\n",
       "      <td>7.427090</td>\n",
       "      <td>20.637640</td>\n",
       "      <td>20.249730</td>\n",
       "      <td>20.006330</td>\n",
       "      <td>19.811070</td>\n",
       "      <td>19.644250</td>\n",
       "      <td>2.000000</td>\n",
       "      <td>5.635235e+18</td>\n",
       "      <td>1.106605</td>\n",
       "      <td>5005.000000</td>\n",
       "      <td>55868.000000</td>\n",
       "    </tr>\n",
       "    <tr>\n",
       "      <th>50%</th>\n",
       "      <td>1.237662e+18</td>\n",
       "      <td>183.682504</td>\n",
       "      <td>29.299167</td>\n",
       "      <td>21.503240</td>\n",
       "      <td>21.056290</td>\n",
       "      <td>20.772720</td>\n",
       "      <td>20.582110</td>\n",
       "      <td>20.373970</td>\n",
       "      <td>3.000000</td>\n",
       "      <td>8.527725e+18</td>\n",
       "      <td>1.617232</td>\n",
       "      <td>7574.000000</td>\n",
       "      <td>56955.000000</td>\n",
       "    </tr>\n",
       "    <tr>\n",
       "      <th>75%</th>\n",
       "      <td>1.237671e+18</td>\n",
       "      <td>235.864774</td>\n",
       "      <td>42.886953</td>\n",
       "      <td>22.286470</td>\n",
       "      <td>21.687770</td>\n",
       "      <td>21.413450</td>\n",
       "      <td>21.202280</td>\n",
       "      <td>21.001230</td>\n",
       "      <td>5.000000</td>\n",
       "      <td>9.847373e+18</td>\n",
       "      <td>2.220279</td>\n",
       "      <td>8746.000000</td>\n",
       "      <td>57870.000000</td>\n",
       "    </tr>\n",
       "    <tr>\n",
       "      <th>max</th>\n",
       "      <td>1.237681e+18</td>\n",
       "      <td>359.999615</td>\n",
       "      <td>82.288657</td>\n",
       "      <td>32.781390</td>\n",
       "      <td>27.894820</td>\n",
       "      <td>27.397090</td>\n",
       "      <td>32.141470</td>\n",
       "      <td>28.790550</td>\n",
       "      <td>6.000000</td>\n",
       "      <td>1.412694e+19</td>\n",
       "      <td>7.011245</td>\n",
       "      <td>12547.000000</td>\n",
       "      <td>58932.000000</td>\n",
       "    </tr>\n",
       "  </tbody>\n",
       "</table>\n",
       "</div>"
      ],
      "text/plain": [
       "             obj_ID         alpha         delta             u             g  \\\n",
       "count  1.896100e+04  18961.000000  18961.000000  18961.000000  18961.000000   \n",
       "mean   1.237665e+18    180.474314     26.808621     21.547619     20.926193   \n",
       "std    8.659960e+12     98.962348     19.588410      1.495879      1.163239   \n",
       "min    1.237646e+18      0.010959    -15.980904     10.996230     13.662170   \n",
       "25%    1.237659e+18    129.133119      7.427090     20.637640     20.249730   \n",
       "50%    1.237662e+18    183.682504     29.299167     21.503240     21.056290   \n",
       "75%    1.237671e+18    235.864774     42.886953     22.286470     21.687770   \n",
       "max    1.237681e+18    359.999615     82.288657     32.781390     27.894820   \n",
       "\n",
       "                  r             i             z       cam_col   spec_obj_ID  \\\n",
       "count  18961.000000  18961.000000  18961.000000  18961.000000  1.896100e+04   \n",
       "mean      20.624089     20.431173     20.266732      3.522494  7.817338e+18   \n",
       "std        1.084237      1.080135      1.095076      1.575871  3.143628e+18   \n",
       "min       12.357630     12.637440     11.302470      1.000000  3.006293e+17   \n",
       "25%       20.006330     19.811070     19.644250      2.000000  5.635235e+18   \n",
       "50%       20.772720     20.582110     20.373970      3.000000  8.527725e+18   \n",
       "75%       21.413450     21.202280     21.001230      5.000000  9.847373e+18   \n",
       "max       27.397090     32.141470     28.790550      6.000000  1.412694e+19   \n",
       "\n",
       "           redshift         plate           MJD  \n",
       "count  18961.000000  18961.000000  18961.000000  \n",
       "mean       1.719676   6943.071621  56627.547176  \n",
       "std        0.913954   2792.093167   1579.823334  \n",
       "min        0.000461    267.000000  51608.000000  \n",
       "25%        1.106605   5005.000000  55868.000000  \n",
       "50%        1.617232   7574.000000  56955.000000  \n",
       "75%        2.220279   8746.000000  57870.000000  \n",
       "max        7.011245  12547.000000  58932.000000  "
      ]
     },
     "execution_count": 16,
     "metadata": {},
     "output_type": "execute_result"
    }
   ],
   "source": [
    "quesars.describe()"
   ]
  },
  {
   "cell_type": "code",
   "execution_count": null,
   "id": "7931fa08",
   "metadata": {},
   "outputs": [],
   "source": []
  },
  {
   "cell_type": "markdown",
   "id": "a16a5420",
   "metadata": {},
   "source": [
    "# Model Testing"
   ]
  },
  {
   "cell_type": "code",
   "execution_count": 35,
   "id": "91152320",
   "metadata": {},
   "outputs": [],
   "source": [
    "from sklearn.model_selection import train_test_split\n",
    "\n",
    "X = model_df[\"redshift\"]\n",
    "y = model_df[\"class\"]\n",
    "\n",
    "\n",
    "x_train, y_train, x_test, y_test = train_test_split(X, y, test_size=0.3)"
   ]
  },
  {
   "cell_type": "code",
   "execution_count": 38,
   "id": "3df88267",
   "metadata": {},
   "outputs": [
    {
     "data": {
      "text/plain": [
       "67100    1.727614e-04\n",
       "87908    3.496699e-01\n",
       "68081    5.101381e-02\n",
       "598      3.648643e-01\n",
       "15458    2.295609e-07\n",
       "Name: redshift, dtype: float64"
      ]
     },
     "execution_count": 38,
     "metadata": {},
     "output_type": "execute_result"
    }
   ],
   "source": [
    "x_train.head()"
   ]
  },
  {
   "cell_type": "code",
   "execution_count": 39,
   "id": "c5a1d9c3",
   "metadata": {},
   "outputs": [
    {
     "data": {
      "text/plain": [
       "75534    GALAXY\n",
       "30199    GALAXY\n",
       "29622    GALAXY\n",
       "68753    GALAXY\n",
       "37362    GALAXY\n",
       "Name: class, dtype: object"
      ]
     },
     "execution_count": 39,
     "metadata": {},
     "output_type": "execute_result"
    }
   ],
   "source": [
    "y_test.head()"
   ]
  },
  {
   "cell_type": "code",
   "execution_count": 40,
   "id": "7915303b",
   "metadata": {},
   "outputs": [
    {
     "data": {
      "text/plain": [
       "67100      STAR\n",
       "87908       QSO\n",
       "68081    GALAXY\n",
       "598      GALAXY\n",
       "15458      STAR\n",
       "          ...  \n",
       "71387       QSO\n",
       "60832       QSO\n",
       "63863    GALAXY\n",
       "47358      STAR\n",
       "18484      STAR\n",
       "Name: class, Length: 70000, dtype: object"
      ]
     },
     "execution_count": 40,
     "metadata": {},
     "output_type": "execute_result"
    }
   ],
   "source": [
    "x_test"
   ]
  },
  {
   "cell_type": "code",
   "execution_count": 41,
   "id": "09db501d",
   "metadata": {},
   "outputs": [
    {
     "data": {
      "text/plain": [
       "75534    GALAXY\n",
       "30199    GALAXY\n",
       "29622    GALAXY\n",
       "68753    GALAXY\n",
       "37362    GALAXY\n",
       "          ...  \n",
       "19627       QSO\n",
       "44473    GALAXY\n",
       "9905     GALAXY\n",
       "84289      STAR\n",
       "98212    GALAXY\n",
       "Name: class, Length: 30000, dtype: object"
      ]
     },
     "execution_count": 41,
     "metadata": {},
     "output_type": "execute_result"
    }
   ],
   "source": [
    "y_test"
   ]
  },
  {
   "cell_type": "code",
   "execution_count": null,
   "id": "07f1a1ec",
   "metadata": {},
   "outputs": [],
   "source": []
  }
 ],
 "metadata": {
  "kernelspec": {
   "display_name": "Python 3 (ipykernel)",
   "language": "python",
   "name": "python3"
  },
  "language_info": {
   "codemirror_mode": {
    "name": "ipython",
    "version": 3
   },
   "file_extension": ".py",
   "mimetype": "text/x-python",
   "name": "python",
   "nbconvert_exporter": "python",
   "pygments_lexer": "ipython3",
   "version": "3.10.9"
  }
 },
 "nbformat": 4,
 "nbformat_minor": 5
}
